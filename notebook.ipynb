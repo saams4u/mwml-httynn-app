{
  "nbformat": 4,
  "nbformat_minor": 0,
  "metadata": {
    "colab": {
      "name": "How to Train Your Neural Net.ipynb",
      "provenance": [],
      "collapsed_sections": [],
      "machine_shape": "hm"
    },
    "kernelspec": {
      "name": "python3",
      "display_name": "Python 3"
    },
    "accelerator": "GPU"
  },
  "cells": [
    {
      "cell_type": "markdown",
      "metadata": {
        "id": "wq9NaynHnGhf",
        "colab_type": "text"
      },
      "source": [
        "##NLP - Binary Text Classification usings RNNs"
      ]
    },
    {
      "cell_type": "code",
      "metadata": {
        "id": "OSXfhBJ1wOLP",
        "colab_type": "code",
        "colab": {
          "base_uri": "https://localhost:8080/",
          "height": 72
        },
        "outputId": "2218ffca-58a1-4cdc-a5ad-0a6a6dd007a3"
      },
      "source": [
        "!pip install torch==1.1.0"
      ],
      "execution_count": null,
      "outputs": [
        {
          "output_type": "stream",
          "text": [
            "Requirement already satisfied: torch==1.1.0 in /usr/local/lib/python3.6/dist-packages (1.1.0)\n",
            "Requirement already satisfied: numpy in /usr/local/lib/python3.6/dist-packages (from torch==1.1.0) (1.18.5)\n"
          ],
          "name": "stdout"
        }
      ]
    },
    {
      "cell_type": "code",
      "metadata": {
        "id": "9K-QGu79kqjm",
        "colab_type": "code",
        "colab": {
          "base_uri": "https://localhost:8080/",
          "height": 35
        },
        "outputId": "d59fb8bb-04bd-4b15-9334-143a7da7fa28"
      },
      "source": [
        "import re\n",
        "import numpy as np\n",
        "import pandas as pd\n",
        "\n",
        "from pprint import pprint\n",
        "from collections import Counter\n",
        "\n",
        "import matplotlib.pyplot as plt\n",
        "\n",
        "import torch\n",
        "import torch.nn as nn\n",
        "import torch.optim as optim\n",
        "import torch.nn.functional as F\n",
        "\n",
        "from torch.utils.data import Dataset, DataLoader\n",
        "from torch.nn.utils.rnn import pad_sequence, pack_padded_sequence, pad_packed_sequence\n",
        "\n",
        "from sklearn.model_selection import train_test_split\n",
        "from sklearn.metrics import classification_report, confusion_matrix\n",
        "\n",
        "%matplotlib inline\n",
        "\n",
        "torch.manual_seed(1)"
      ],
      "execution_count": null,
      "outputs": [
        {
          "output_type": "execute_result",
          "data": {
            "text/plain": [
              "<torch._C.Generator at 0x7f02cf5a5ed0>"
            ]
          },
          "metadata": {
            "tags": []
          },
          "execution_count": 2
        }
      ]
    },
    {
      "cell_type": "code",
      "metadata": {
        "id": "MRAYvgP1nKX3",
        "colab_type": "code",
        "colab": {}
      },
      "source": [
        "!wget https://raw.githubusercontent.com/hallr/DAT_SF_19/master/data/yelp_labelled.txt"
      ],
      "execution_count": null,
      "outputs": []
    },
    {
      "cell_type": "code",
      "metadata": {
        "id": "t_N3UEh4ntOd",
        "colab_type": "code",
        "colab": {
          "base_uri": "https://localhost:8080/",
          "height": 202
        },
        "outputId": "7d817dbc-1717-4c03-967e-aedc3cfd18ca"
      },
      "source": [
        "df = pd.read_csv(\"yelp_labelled.txt\", sep=\"\\t\", header=None, names=['text', 'tag'])\n",
        "\n",
        "df.dropna(inplace=True)\n",
        "df.head()"
      ],
      "execution_count": null,
      "outputs": [
        {
          "output_type": "execute_result",
          "data": {
            "text/html": [
              "<div>\n",
              "<style scoped>\n",
              "    .dataframe tbody tr th:only-of-type {\n",
              "        vertical-align: middle;\n",
              "    }\n",
              "\n",
              "    .dataframe tbody tr th {\n",
              "        vertical-align: top;\n",
              "    }\n",
              "\n",
              "    .dataframe thead th {\n",
              "        text-align: right;\n",
              "    }\n",
              "</style>\n",
              "<table border=\"1\" class=\"dataframe\">\n",
              "  <thead>\n",
              "    <tr style=\"text-align: right;\">\n",
              "      <th></th>\n",
              "      <th>text</th>\n",
              "      <th>tag</th>\n",
              "    </tr>\n",
              "  </thead>\n",
              "  <tbody>\n",
              "    <tr>\n",
              "      <th>0</th>\n",
              "      <td>Wow... Loved this place.</td>\n",
              "      <td>1.0</td>\n",
              "    </tr>\n",
              "    <tr>\n",
              "      <th>3</th>\n",
              "      <td>Crust is not good.</td>\n",
              "      <td>0.0</td>\n",
              "    </tr>\n",
              "    <tr>\n",
              "      <th>4</th>\n",
              "      <td>Not tasty and the texture was just nasty.</td>\n",
              "      <td>0.0</td>\n",
              "    </tr>\n",
              "    <tr>\n",
              "      <th>10</th>\n",
              "      <td>Stopped by during the late May bank holiday of...</td>\n",
              "      <td>1.0</td>\n",
              "    </tr>\n",
              "    <tr>\n",
              "      <th>11</th>\n",
              "      <td>The selection on the menu was great and so wer...</td>\n",
              "      <td>1.0</td>\n",
              "    </tr>\n",
              "  </tbody>\n",
              "</table>\n",
              "</div>"
            ],
            "text/plain": [
              "                                                 text  tag\n",
              "0                            Wow... Loved this place.  1.0\n",
              "3                                  Crust is not good.  0.0\n",
              "4           Not tasty and the texture was just nasty.  0.0\n",
              "10  Stopped by during the late May bank holiday of...  1.0\n",
              "11  The selection on the menu was great and so wer...  1.0"
            ]
          },
          "metadata": {
            "tags": []
          },
          "execution_count": 3
        }
      ]
    },
    {
      "cell_type": "code",
      "metadata": {
        "id": "zBGQiHUxn1Wj",
        "colab_type": "code",
        "colab": {}
      },
      "source": [
        "sentence_list = [t for t in df['text'].to_list()]\n",
        "tag_list = [t for t in df['tag'].to_list()]"
      ],
      "execution_count": null,
      "outputs": []
    },
    {
      "cell_type": "code",
      "metadata": {
        "id": "Xo-UpK0KoZqh",
        "colab_type": "code",
        "colab": {
          "base_uri": "https://localhost:8080/",
          "height": 193
        },
        "outputId": "5b145e03-093d-4d3c-c775-fbec2d504538"
      },
      "source": [
        "sentence_list[1:10]"
      ],
      "execution_count": null,
      "outputs": [
        {
          "output_type": "execute_result",
          "data": {
            "text/plain": [
              "['Crust is not good.',\n",
              " 'Not tasty and the texture was just nasty.',\n",
              " 'Stopped by during the late May bank holiday off Rick Steve recommendation and loved it.',\n",
              " 'The selection on the menu was great and so were the prices.',\n",
              " 'Now I am getting angry and I want my damn pho.',\n",
              " \"Honeslty it didn't taste THAT fresh.)\",\n",
              " 'The potatoes were like rubber and you could tell they had been made up ahead of time being kept under a warmer.',\n",
              " 'The fries were great too.',\n",
              " 'A great touch.']"
            ]
          },
          "metadata": {
            "tags": []
          },
          "execution_count": 5
        }
      ]
    },
    {
      "cell_type": "code",
      "metadata": {
        "id": "I9NeaJJyoas6",
        "colab_type": "code",
        "colab": {
          "base_uri": "https://localhost:8080/",
          "height": 35
        },
        "outputId": "1342134e-4e1f-4b85-94e5-9fc88d1e4986"
      },
      "source": [
        "tag_list[1:10]"
      ],
      "execution_count": null,
      "outputs": [
        {
          "output_type": "execute_result",
          "data": {
            "text/plain": [
              "[0.0, 0.0, 1.0, 1.0, 0.0, 0.0, 0.0, 1.0, 1.0]"
            ]
          },
          "metadata": {
            "tags": []
          },
          "execution_count": 6
        }
      ]
    },
    {
      "cell_type": "code",
      "metadata": {
        "id": "I82UOcGRodvE",
        "colab_type": "code",
        "colab": {}
      },
      "source": [
        "sentence_list = [s.lower() for s in sentence_list]\n",
        "\n",
        "regex_remove_nonalphabets = re.compile('[^a-zA-Z]')\n",
        "sentence_list = [regex_remove_nonalphabets.sub(' ', s) for s in sentence_list]\n",
        "\n",
        "regex_remove_shortwords = re.compile(r'\\b\\w{1,2}\\b')\n",
        "sentence_list = [regex_remove_shortwords.sub(\"\", s) for s in sentence_list]\n",
        "\n",
        "c = Counter(w for s in sentence_list for w in s.split())\n",
        "sentence_list = [' '.join(y for y in x.split() if c[y] > 1) for x in sentence_list]\n",
        "\n",
        "sentence_list = [\" \".join(s.split()) for s in sentence_list]"
      ],
      "execution_count": null,
      "outputs": []
    },
    {
      "cell_type": "code",
      "metadata": {
        "id": "0Qk2uYTtpH5z",
        "colab_type": "code",
        "colab": {
          "base_uri": "https://localhost:8080/",
          "height": 173
        },
        "outputId": "900eac07-b248-48d8-8403-b9666a65daf5"
      },
      "source": [
        "sentence_list[1:10]"
      ],
      "execution_count": null,
      "outputs": [
        {
          "output_type": "execute_result",
          "data": {
            "text/plain": [
              "['crust not good',\n",
              " 'not tasty and the texture was just nasty',\n",
              " 'stopped during the late may off recommendation and loved',\n",
              " 'the selection the menu was great and were the prices',\n",
              " 'now getting and want damn pho',\n",
              " 'didn taste that fresh',\n",
              " 'the potatoes were like and you could tell they had been made time being kept under',\n",
              " 'the fries were great too',\n",
              " 'great touch']"
            ]
          },
          "metadata": {
            "tags": []
          },
          "execution_count": 8
        }
      ]
    },
    {
      "cell_type": "code",
      "metadata": {
        "id": "-0SmX4WdpKfa",
        "colab_type": "code",
        "colab": {
          "base_uri": "https://localhost:8080/",
          "height": 52
        },
        "outputId": "47860246-2147-4969-90f4-18637d22e4ec"
      },
      "source": [
        "words = []\n",
        "\n",
        "for sentence in sentence_list:\n",
        "    for w in sentence.split():\n",
        "        words.append(w)\n",
        "\n",
        "words = list(set(words))\n",
        "print(f\"Size of word-vocabulary: {len(words)}\\n\")"
      ],
      "execution_count": null,
      "outputs": [
        {
          "output_type": "stream",
          "text": [
            "Size of word-vocabulary: 844\n",
            "\n"
          ],
          "name": "stdout"
        }
      ]
    },
    {
      "cell_type": "code",
      "metadata": {
        "id": "vESHatDOpVIN",
        "colab_type": "code",
        "colab": {}
      },
      "source": [
        "word2idx = {word: i for i, word in enumerate(words)}"
      ],
      "execution_count": null,
      "outputs": []
    },
    {
      "cell_type": "code",
      "metadata": {
        "id": "dYSegwSbpZP0",
        "colab_type": "code",
        "colab": {
          "base_uri": "https://localhost:8080/",
          "height": 69
        },
        "outputId": "d0a1b174-831b-4e3a-819e-812ed1e545f6"
      },
      "source": [
        "tags = []\n",
        "\n",
        "for tag in tag_list:\n",
        "    tags.append(tag)\n",
        "\n",
        "tags = list(set(tags))\n",
        "\n",
        "print(f\"Size of tag-vocab: {len(tags)}\\n\")\n",
        "print(tags)"
      ],
      "execution_count": null,
      "outputs": [
        {
          "output_type": "stream",
          "text": [
            "Size of tag-vocab: 2\n",
            "\n",
            "[0.0, 1.0]\n"
          ],
          "name": "stdout"
        }
      ]
    },
    {
      "cell_type": "code",
      "metadata": {
        "id": "fURUNUSEpkKp",
        "colab_type": "code",
        "colab": {
          "base_uri": "https://localhost:8080/",
          "height": 35
        },
        "outputId": "46922c77-1798-4930-b295-c4f1d0052d9f"
      },
      "source": [
        "tag2idx = {word: i for i, word in enumerate(tags)}\n",
        "print(tag2idx)"
      ],
      "execution_count": null,
      "outputs": [
        {
          "output_type": "stream",
          "text": [
            "{0.0: 0, 1.0: 1}\n"
          ],
          "name": "stdout"
        }
      ]
    },
    {
      "cell_type": "code",
      "metadata": {
        "id": "_wZQxhdKporw",
        "colab_type": "code",
        "colab": {
          "base_uri": "https://localhost:8080/",
          "height": 69
        },
        "outputId": "94cd913c-5f5b-4fbb-f2e3-321f6746e277"
      },
      "source": [
        "X = [[word2idx[w] for w in s.split()] for s in sentence_list]\n",
        "X[:3]"
      ],
      "execution_count": null,
      "outputs": [
        {
          "output_type": "execute_result",
          "data": {
            "text/plain": [
              "[[576, 224, 707, 793],\n",
              " [234, 325, 307],\n",
              " [325, 447, 282, 120, 135, 546, 28, 315]]"
            ]
          },
          "metadata": {
            "tags": []
          },
          "execution_count": 13
        }
      ]
    },
    {
      "cell_type": "code",
      "metadata": {
        "id": "2obEs0BWptiZ",
        "colab_type": "code",
        "colab": {
          "base_uri": "https://localhost:8080/",
          "height": 35
        },
        "outputId": "a784eea3-0ab1-4adc-a81e-4c90418caf17"
      },
      "source": [
        "y = [tag2idx[t] for t in tag_list]\n",
        "y[:3]"
      ],
      "execution_count": null,
      "outputs": [
        {
          "output_type": "execute_result",
          "data": {
            "text/plain": [
              "[1, 0, 0]"
            ]
          },
          "metadata": {
            "tags": []
          },
          "execution_count": 14
        }
      ]
    },
    {
      "cell_type": "code",
      "metadata": {
        "id": "6cEqhwPrpxnt",
        "colab_type": "code",
        "colab": {}
      },
      "source": [
        "X_train, X_test, y_train, y_test = train_test_split(X, y, test_size=0.3)"
      ],
      "execution_count": null,
      "outputs": []
    },
    {
      "cell_type": "code",
      "metadata": {
        "id": "HfIcvJkKp-98",
        "colab_type": "code",
        "colab": {
          "base_uri": "https://localhost:8080/",
          "height": 52
        },
        "outputId": "5586f47b-2e19-4123-c66a-bf89e0a3e439"
      },
      "source": [
        "print(\"X_train size: \", len(X_train))\n",
        "print(\"X_test size: \", len(X_test))"
      ],
      "execution_count": null,
      "outputs": [
        {
          "output_type": "stream",
          "text": [
            "X_train size:  700\n",
            "X_test size:  300\n"
          ],
          "name": "stdout"
        }
      ]
    },
    {
      "cell_type": "code",
      "metadata": {
        "id": "SAHEOIHMqS04",
        "colab_type": "code",
        "colab": {}
      },
      "source": [
        "EPOCHS = 100\n",
        "BATCH_SIZE = 128\n",
        "EMBEDDING_SIZE = 256\n",
        "\n",
        "VOCAB_SIZE = len(word2idx)\n",
        "TARGET_SIZE = len(tag2idx)\n",
        "\n",
        "HIDDEN_SIZE = 8\n",
        "LEARNING_RATE = 0.001\n",
        "STACKED_LAYERS = 8"
      ],
      "execution_count": null,
      "outputs": []
    },
    {
      "cell_type": "code",
      "metadata": {
        "id": "9qutODKjqrXr",
        "colab_type": "code",
        "colab": {}
      },
      "source": [
        "class TrainData(Dataset):\n",
        "\n",
        "    def __init__(self, X_data, y_data):\n",
        "        self.X_data = X_data\n",
        "        self.y_data = y_data\n",
        "\n",
        "    def __getitem__(self, index):\n",
        "        return self.X_data[index], self.y_data[index]\n",
        "\n",
        "    def __len__(self):\n",
        "        return len(self.X_data)"
      ],
      "execution_count": null,
      "outputs": []
    },
    {
      "cell_type": "code",
      "metadata": {
        "id": "yK4L54QGq5HZ",
        "colab_type": "code",
        "colab": {}
      },
      "source": [
        "train_data = TrainData(X_train, y_train)\n",
        "train_loader = DataLoader(train_data, batch_size=BATCH_SIZE, collate_fn=lambda x:x)"
      ],
      "execution_count": null,
      "outputs": []
    },
    {
      "cell_type": "code",
      "metadata": {
        "id": "4nYrHECSrCXE",
        "colab_type": "code",
        "colab": {}
      },
      "source": [
        "class TestData(Dataset):\n",
        "\n",
        "    def __init__(self, X_data, y_data):\n",
        "        self.X_data = X_data\n",
        "        self.y_data = y_data\n",
        "\n",
        "    def __getitem__(self, index):\n",
        "        return self.X_data[index], self.y_data[index]\n",
        "\n",
        "    def __len__(self):\n",
        "        return len(self.X_data)"
      ],
      "execution_count": null,
      "outputs": []
    },
    {
      "cell_type": "code",
      "metadata": {
        "id": "SRcEpAkGrRmE",
        "colab_type": "code",
        "colab": {}
      },
      "source": [
        "test_data = TestData(X_test, y_test)\n",
        "test_loader = DataLoader(test_data, batch_size=1, collate_fn=lambda x:x)"
      ],
      "execution_count": null,
      "outputs": []
    },
    {
      "cell_type": "code",
      "metadata": {
        "id": "3fSPzD96rZ8W",
        "colab_type": "code",
        "colab": {}
      },
      "source": [
        "class ModelLSTM(nn.Module):\n",
        "    \n",
        "    def __init__(self, embedding_size, vocab_size, hidden_size, target_size, stacked_layers):\n",
        "        super(ModelLSTM, self).__init__()\n",
        "        \n",
        "        self.word_embeddings = nn.Embedding(num_embeddings = vocab_size, embedding_dim = embedding_size)\n",
        "        self.lstm = nn.LSTM(input_size = embedding_size, hidden_size = hidden_size, batch_first = True, num_layers = stacked_layers, dropout = 0.3)\n",
        "        self.linear = nn.Linear(in_features = hidden_size, out_features=1)\n",
        "        self.tanh = nn.Tanh()\n",
        "        \n",
        "    def forward(self, x_batch):\n",
        "        len_list = list(map(len, x_batch))\n",
        "        \n",
        "        padded_batch = pad_sequence(x_batch, batch_first=True)\n",
        "        embeds = self.word_embeddings(padded_batch)\n",
        "        pack_embeds = pack_padded_sequence(embeds, lengths=len_list, batch_first=True, enforce_sorted=False)\n",
        "        \n",
        "        rnn_out, (rnn_h, rnn_c) = self.lstm(pack_embeds)\n",
        "        linear_out = self.linear(self.tanh(rnn_h))\n",
        "        y_out = linear_out[-1]\n",
        "        \n",
        "        return y_out"
      ],
      "execution_count": null,
      "outputs": []
    },
    {
      "cell_type": "code",
      "metadata": {
        "id": "dwL8CaMAspMx",
        "colab_type": "code",
        "colab": {
          "base_uri": "https://localhost:8080/",
          "height": 35
        },
        "outputId": "4de7f23d-2cb4-4818-c3e9-255d93b99a98"
      },
      "source": [
        "device = torch.device(\"cuda:0\" if torch.cuda.is_available() else \"cpu\")\n",
        "print(device)"
      ],
      "execution_count": null,
      "outputs": [
        {
          "output_type": "stream",
          "text": [
            "cuda:0\n"
          ],
          "name": "stdout"
        }
      ]
    },
    {
      "cell_type": "code",
      "metadata": {
        "id": "BJ3LC7S4s2Xr",
        "colab_type": "code",
        "colab": {
          "base_uri": "https://localhost:8080/",
          "height": 121
        },
        "outputId": "0d854668-2088-4d13-ba93-499804e76053"
      },
      "source": [
        "lstm_model = ModelLSTM(embedding_size=EMBEDDING_SIZE, vocab_size=len(word2idx), hidden_size=HIDDEN_SIZE,\n",
        "                       target_size=len(tag2idx), stacked_layers=STACKED_LAYERS)\n",
        "\n",
        "lstm_model.to(device)\n",
        "print(lstm_model)\n",
        "\n",
        "criterion = nn.BCEWithLogitsLoss()\n",
        "optimizer = optim.Adam(lstm_model.parameters())"
      ],
      "execution_count": null,
      "outputs": [
        {
          "output_type": "stream",
          "text": [
            "ModelLSTM(\n",
            "  (word_embeddings): Embedding(844, 256)\n",
            "  (lstm): LSTM(256, 8, num_layers=8, batch_first=True, dropout=0.3)\n",
            "  (linear): Linear(in_features=8, out_features=1, bias=True)\n",
            "  (tanh): Tanh()\n",
            ")\n"
          ],
          "name": "stdout"
        }
      ]
    },
    {
      "cell_type": "code",
      "metadata": {
        "id": "9gIgc8z9tIFQ",
        "colab_type": "code",
        "colab": {}
      },
      "source": [
        "def binary_acc(y_pred, y_test):\n",
        "    y_pred_tag = torch.round(torch.sigmoid(y_pred))\n",
        "\n",
        "    correct_results_sum = (y_pred_tag == y_test).sum().float()\n",
        "\n",
        "    acc = correct_results_sum / y_test.shape[0]\n",
        "    acc = torch.round(acc * 100)\n",
        "\n",
        "    return acc"
      ],
      "execution_count": null,
      "outputs": []
    },
    {
      "cell_type": "code",
      "metadata": {
        "id": "ACQLoSOYtd91",
        "colab_type": "code",
        "colab": {
          "base_uri": "https://localhost:8080/",
          "height": 1000
        },
        "outputId": "fd2cfe33-bdeb-4fd8-f1b5-861b47815a61"
      },
      "source": [
        "lstm_model.train()\n",
        "\n",
        "for e in range(1, EPOCHS+1):\n",
        "    epoch_loss = 0\n",
        "    epoch_acc = 0\n",
        "    for batch in train_loader:\n",
        "        x_batch, y_batch = map(list, zip(*batch))\n",
        "        x_batch = [torch.tensor(i).to(device) for i in x_batch]\n",
        "        y_batch = torch.tensor(y_batch).long().to(device)\n",
        "\n",
        "        optimizer.zero_grad()\n",
        "\n",
        "        y_pred = lstm_model(x_batch)\n",
        "\n",
        "        loss = criterion(y_pred.squeeze(1), y_batch.float())\n",
        "        acc = binary_acc(y_pred.squeeze(1), y_batch.float())\n",
        "\n",
        "        loss.backward()\n",
        "        optimizer.step()\n",
        "\n",
        "        epoch_loss += loss.item()\n",
        "        epoch_acc += acc.item()\n",
        "\n",
        "    print(f'Epoch {e+0:03}: | Loss: {epoch_loss/len(train_loader):.5f} | Acc: {acc}')"
      ],
      "execution_count": null,
      "outputs": [
        {
          "output_type": "stream",
          "text": [
            "Epoch 001: | Loss: 0.70801 | Acc: 37.0\n",
            "Epoch 002: | Loss: 0.70620 | Acc: 37.0\n",
            "Epoch 003: | Loss: 0.70413 | Acc: 37.0\n",
            "Epoch 004: | Loss: 0.70295 | Acc: 37.0\n",
            "Epoch 005: | Loss: 0.70134 | Acc: 37.0\n",
            "Epoch 006: | Loss: 0.70013 | Acc: 37.0\n",
            "Epoch 007: | Loss: 0.69907 | Acc: 37.0\n",
            "Epoch 008: | Loss: 0.69788 | Acc: 37.0\n",
            "Epoch 009: | Loss: 0.69639 | Acc: 37.0\n",
            "Epoch 010: | Loss: 0.69587 | Acc: 37.0\n",
            "Epoch 011: | Loss: 0.69502 | Acc: 45.0\n",
            "Epoch 012: | Loss: 0.69531 | Acc: 52.0\n",
            "Epoch 013: | Loss: 0.69450 | Acc: 53.0\n",
            "Epoch 014: | Loss: 0.69442 | Acc: 55.0\n",
            "Epoch 015: | Loss: 0.69470 | Acc: 52.0\n",
            "Epoch 016: | Loss: 0.69462 | Acc: 60.0\n",
            "Epoch 017: | Loss: 0.69391 | Acc: 58.0\n",
            "Epoch 018: | Loss: 0.69405 | Acc: 58.0\n",
            "Epoch 019: | Loss: 0.69378 | Acc: 63.0\n",
            "Epoch 020: | Loss: 0.69362 | Acc: 60.0\n",
            "Epoch 021: | Loss: 0.69347 | Acc: 60.0\n",
            "Epoch 022: | Loss: 0.69393 | Acc: 57.0\n",
            "Epoch 023: | Loss: 0.69352 | Acc: 58.0\n",
            "Epoch 024: | Loss: 0.69378 | Acc: 58.0\n",
            "Epoch 025: | Loss: 0.69267 | Acc: 60.0\n",
            "Epoch 026: | Loss: 0.69180 | Acc: 60.0\n",
            "Epoch 027: | Loss: 0.68953 | Acc: 58.0\n",
            "Epoch 028: | Loss: 0.68609 | Acc: 63.0\n",
            "Epoch 029: | Loss: 0.67967 | Acc: 63.0\n",
            "Epoch 030: | Loss: 0.66990 | Acc: 82.0\n",
            "Epoch 031: | Loss: 0.65553 | Acc: 80.0\n",
            "Epoch 032: | Loss: 0.63818 | Acc: 87.0\n",
            "Epoch 033: | Loss: 0.61933 | Acc: 82.0\n",
            "Epoch 034: | Loss: 0.59570 | Acc: 85.0\n",
            "Epoch 035: | Loss: 0.57746 | Acc: 87.0\n",
            "Epoch 036: | Loss: 0.55712 | Acc: 88.0\n",
            "Epoch 037: | Loss: 0.54259 | Acc: 87.0\n",
            "Epoch 038: | Loss: 0.51759 | Acc: 90.0\n",
            "Epoch 039: | Loss: 0.49682 | Acc: 90.0\n",
            "Epoch 040: | Loss: 0.48772 | Acc: 88.0\n",
            "Epoch 041: | Loss: 0.46628 | Acc: 92.0\n",
            "Epoch 042: | Loss: 0.45735 | Acc: 92.0\n",
            "Epoch 043: | Loss: 0.42700 | Acc: 90.0\n",
            "Epoch 044: | Loss: 0.41905 | Acc: 92.0\n",
            "Epoch 045: | Loss: 0.40422 | Acc: 93.0\n",
            "Epoch 046: | Loss: 0.38513 | Acc: 92.0\n",
            "Epoch 047: | Loss: 0.37001 | Acc: 95.0\n",
            "Epoch 048: | Loss: 0.37155 | Acc: 92.0\n",
            "Epoch 049: | Loss: 0.34641 | Acc: 93.0\n",
            "Epoch 050: | Loss: 0.34734 | Acc: 90.0\n",
            "Epoch 051: | Loss: 0.33192 | Acc: 90.0\n",
            "Epoch 052: | Loss: 0.31771 | Acc: 93.0\n",
            "Epoch 053: | Loss: 0.31249 | Acc: 95.0\n",
            "Epoch 054: | Loss: 0.31525 | Acc: 95.0\n",
            "Epoch 055: | Loss: 0.29317 | Acc: 93.0\n",
            "Epoch 056: | Loss: 0.30216 | Acc: 92.0\n",
            "Epoch 057: | Loss: 0.27579 | Acc: 95.0\n",
            "Epoch 058: | Loss: 0.30235 | Acc: 92.0\n",
            "Epoch 059: | Loss: 0.26378 | Acc: 95.0\n",
            "Epoch 060: | Loss: 0.26756 | Acc: 95.0\n",
            "Epoch 061: | Loss: 0.28050 | Acc: 92.0\n",
            "Epoch 062: | Loss: 0.26236 | Acc: 93.0\n",
            "Epoch 063: | Loss: 0.25390 | Acc: 97.0\n",
            "Epoch 064: | Loss: 0.27271 | Acc: 97.0\n",
            "Epoch 065: | Loss: 0.24557 | Acc: 95.0\n",
            "Epoch 066: | Loss: 0.25449 | Acc: 93.0\n",
            "Epoch 067: | Loss: 0.24166 | Acc: 97.0\n",
            "Epoch 068: | Loss: 0.22700 | Acc: 98.0\n",
            "Epoch 069: | Loss: 0.22060 | Acc: 97.0\n",
            "Epoch 070: | Loss: 0.23480 | Acc: 95.0\n",
            "Epoch 071: | Loss: 0.21204 | Acc: 95.0\n",
            "Epoch 072: | Loss: 0.20836 | Acc: 97.0\n",
            "Epoch 073: | Loss: 0.21213 | Acc: 98.0\n",
            "Epoch 074: | Loss: 0.19327 | Acc: 98.0\n",
            "Epoch 075: | Loss: 0.21056 | Acc: 97.0\n",
            "Epoch 076: | Loss: 0.18729 | Acc: 98.0\n",
            "Epoch 077: | Loss: 0.20207 | Acc: 93.0\n",
            "Epoch 078: | Loss: 0.18088 | Acc: 98.0\n",
            "Epoch 079: | Loss: 0.18697 | Acc: 98.0\n",
            "Epoch 080: | Loss: 0.18218 | Acc: 98.0\n",
            "Epoch 081: | Loss: 0.17444 | Acc: 98.0\n",
            "Epoch 082: | Loss: 0.15547 | Acc: 98.0\n",
            "Epoch 083: | Loss: 0.17731 | Acc: 98.0\n",
            "Epoch 084: | Loss: 0.17572 | Acc: 97.0\n",
            "Epoch 085: | Loss: 0.16176 | Acc: 97.0\n",
            "Epoch 086: | Loss: 0.15416 | Acc: 97.0\n",
            "Epoch 087: | Loss: 0.16126 | Acc: 97.0\n",
            "Epoch 088: | Loss: 0.15903 | Acc: 98.0\n",
            "Epoch 089: | Loss: 0.15704 | Acc: 98.0\n",
            "Epoch 090: | Loss: 0.15157 | Acc: 98.0\n",
            "Epoch 091: | Loss: 0.13167 | Acc: 98.0\n",
            "Epoch 092: | Loss: 0.14503 | Acc: 98.0\n",
            "Epoch 093: | Loss: 0.14841 | Acc: 97.0\n",
            "Epoch 094: | Loss: 0.13324 | Acc: 100.0\n",
            "Epoch 095: | Loss: 0.14088 | Acc: 97.0\n",
            "Epoch 096: | Loss: 0.13289 | Acc: 98.0\n",
            "Epoch 097: | Loss: 0.12922 | Acc: 98.0\n",
            "Epoch 098: | Loss: 0.13046 | Acc: 100.0\n",
            "Epoch 099: | Loss: 0.13392 | Acc: 97.0\n",
            "Epoch 100: | Loss: 0.13375 | Acc: 98.0\n"
          ],
          "name": "stdout"
        }
      ]
    },
    {
      "cell_type": "code",
      "metadata": {
        "id": "xbkUA50iuSR3",
        "colab_type": "code",
        "colab": {}
      },
      "source": [
        "y_out_tags_list = []\n",
        "\n",
        "with torch.no_grad():\n",
        "    for batch in test_loader:\n",
        "        x_batch, y_batch = map(list, zip(*batch))\n",
        "        x_batch = [torch.tensor(i).to(device) for i in x_batch]\n",
        "        y_batch = torch.tensor(y_batch).long().to(device)\n",
        "\n",
        "        y_pred = lstm_model(x_batch)\n",
        "        y_pred = torch.sigmoid(y_pred)\n",
        "        y_pred_tag = torch.round(y_pred)\n",
        "\n",
        "        y_out_tags_list.append(y_pred_tag.squeeze(0).cpu().numpy())"
      ],
      "execution_count": null,
      "outputs": []
    },
    {
      "cell_type": "code",
      "metadata": {
        "id": "xBsm_s-i36l0",
        "colab_type": "code",
        "colab": {}
      },
      "source": [
        "y_out_tags_list = [a.squeeze().tolist() for a in y_out_tags_list]"
      ],
      "execution_count": null,
      "outputs": []
    },
    {
      "cell_type": "code",
      "metadata": {
        "id": "cJMQae_a380L",
        "colab_type": "code",
        "colab": {
          "base_uri": "https://localhost:8080/",
          "height": 52
        },
        "outputId": "5a7501be-2c83-4056-b833-9b1f2ceca169"
      },
      "source": [
        "print(confusion_matrix(y_test, y_out_tags_list))"
      ],
      "execution_count": null,
      "outputs": [
        {
          "output_type": "stream",
          "text": [
            "[[111  35]\n",
            " [ 38 116]]\n"
          ],
          "name": "stdout"
        }
      ]
    },
    {
      "cell_type": "code",
      "metadata": {
        "id": "3jWN4Fdr4G2K",
        "colab_type": "code",
        "colab": {
          "base_uri": "https://localhost:8080/",
          "height": 173
        },
        "outputId": "a383e079-9ab3-4725-8329-4fb6797c8e4b"
      },
      "source": [
        "print(classification_report(y_test, y_out_tags_list))"
      ],
      "execution_count": null,
      "outputs": [
        {
          "output_type": "stream",
          "text": [
            "              precision    recall  f1-score   support\n",
            "\n",
            "           0       0.74      0.76      0.75       146\n",
            "           1       0.77      0.75      0.76       154\n",
            "\n",
            "    accuracy                           0.76       300\n",
            "   macro avg       0.76      0.76      0.76       300\n",
            "weighted avg       0.76      0.76      0.76       300\n",
            "\n"
          ],
          "name": "stdout"
        }
      ]
    },
    {
      "cell_type": "code",
      "metadata": {
        "id": "PcawiQAS4L1f",
        "colab_type": "code",
        "colab": {}
      },
      "source": [
        "idx2word = {v: k for k, v in word2idx.items()}\n",
        "idx2tag = {v: k for k, v in tag2idx.items()}"
      ],
      "execution_count": null,
      "outputs": []
    },
    {
      "cell_type": "code",
      "metadata": {
        "id": "3R3r6Aiu4T1S",
        "colab_type": "code",
        "colab": {
          "base_uri": "https://localhost:8080/",
          "height": 399
        },
        "outputId": "758acdef-a6c3-460e-980c-0ab94585f84a"
      },
      "source": [
        "print('{:80}: {:15}\\n'.format(\"Sentence\", \"Sentiment\"))\n",
        "\n",
        "for sentence, tag in zip(X_test[:10], y_out_tags_list[:10]):\n",
        "    s = \" \".join([idx2word[w] for w in sentence])\n",
        "    print('{:80}: {:5}\\n'.format(s, tag))"
      ],
      "execution_count": null,
      "outputs": [
        {
          "output_type": "stream",
          "text": [
            "Sentence                                                                        : Sentiment      \n",
            "\n",
            "why are these sad little vegetables overcooked                                  :   0.0\n",
            "\n",
            "this place has                                                                  :   1.0\n",
            "\n",
            "the service was great even the manager came and helped with our table           :   1.0\n",
            "\n",
            "needless say won going back anytime soon                                        :   0.0\n",
            "\n",
            "how hard its actually rare for give star                                        :   0.0\n",
            "\n",
            "the right next our table was large been stepped and green                       :   1.0\n",
            "\n",
            "this                                                                            :   1.0\n",
            "\n",
            "boy was that dry                                                                :   0.0\n",
            "\n",
            "perfect for someone who only beer ice cold this even                            :   1.0\n",
            "\n",
            "warm atmosphere fun and fresh appetizers steaks steak                           :   0.0\n",
            "\n"
          ],
          "name": "stdout"
        }
      ]
    },
    {
      "cell_type": "code",
      "metadata": {
        "id": "deO0GuDn4mk8",
        "colab_type": "code",
        "colab": {}
      },
      "source": [
        ""
      ],
      "execution_count": null,
      "outputs": []
    }
  ]
}